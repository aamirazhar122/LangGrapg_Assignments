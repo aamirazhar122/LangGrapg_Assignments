{
 "cells": [
  {
   "cell_type": "markdown",
   "metadata": {},
   "source": [
    "# Healthcare with Nutrition AI Agent with LngGraph(Human intruption)"
   ]
  },
  {
   "cell_type": "markdown",
   "metadata": {},
   "source": [
    "# Overview\n",
    "This tutorial demonstrates how to create an intelligent healthcare AI Agent using LangGraph, a powerful tool for building complex language model workflows. The agent is designed to diagnose diseases based on patient queries and provide tailored nutrition guidance when necessary.Additionally, added a human-in-the-loop feature to enhance flexibility, control, and reliability in the AI workflow. "
   ]
  },
  {
   "cell_type": "markdown",
   "metadata": {},
   "source": [
    "# Motivation\n",
    "In today's world, where health concerns and lifestyle diseases are on the rise, personalized and accessible healthcare guidance is more critical than ever. Combining nutritional expertise with advanced AI capabilities can empower individuals to make informed decisions about their health. This project aims to demonstrate how cutting-edge language models and graph-based workflows can be leveraged to create an intelligent healthcare agent.However, fully autonomous systems can sometimes lack flexibility, particularly in high-stakes domains like healthcare. By integrating human-in-the-loop workflows, added an essential layer of oversight, enabling users for approval, editing and debugging."
   ]
  },
  {
   "cell_type": "markdown",
   "metadata": {},
   "source": [
    "# Key Components\n",
    "* State Management: Using TypedDict to define and manage the state of each customer interaction. \n",
    "* Patient Query: Captures the patient's query or concern, such as symptoms.\n",
    "* Disease Dignose:Processes the user-provided symptoms to identify potential diseases or conditions. \n",
    "* Nutritional Guidance : Provides dietary suggestions tailored to the user's health status and conditions.\n",
    "* Workflow Graph: Utilizing LangGraph to create a flexible and extensible workflow.\n",
    "* Human in Loop: Provides breakpoints, which provide a simple way to stop the graph at specific steps and also edit, debug and approval when necessary. "
   ]
  },
  {
   "cell_type": "markdown",
   "metadata": {},
   "source": [
    "# Method Details\n",
    "1. Initialization: Set up the environment and import necessary libraries.\n",
    "2. State Definition: Create a structure to hold query information from user.\n",
    "3. Tools: Create tools for handle dignose disease and recommend food/nutrition.\n",
    "4. Node Functions: Implement separate functions for patienbt query, dignose disease, nutrirional    guidance and response generation.\n",
    "5. Graph Construction: Use StateGraph to define the workflow, adding nodes and edges to represent the   support process.\n",
    "6. Workflow Compilation: Compile the graph into an executable application.\n",
    "7. Execution: Process customer queries through the workflow and retrieve results."
   ]
  },
  {
   "cell_type": "markdown",
   "metadata": {},
   "source": [
    "# Conclusion\n",
    "This project highlights the potential of LangGraph in building sophisticated, AI-driven healthcare workflows. By integrating advanced natural language processing capabilities with a structured graph-based approach, we've developed a Healthcare with Nutrition Agent that provides personalized disease diagnosis and nutritional guidance. This agent not only empowers users with actionable health insights but also showcases the seamless integration of AI tools for meaningful problem-solving.\n",
    "\n",
    " This project demonstrates how cutting-edge language models, enhanced with graph-based workflows and human intervention mechanisms, can be leveraged to create an intelligent, reliable, and adaptable healthcare AI agent."
   ]
  },
  {
   "cell_type": "code",
   "execution_count": 1,
   "metadata": {},
   "outputs": [],
   "source": [
    "import os\n",
    "from dotenv import load_dotenv\n",
    "from typing import TypedDict, List, Dict, Tuple\n",
    "from langchain_openai import ChatOpenAI\n",
    "from langchain_core.prompts import ChatPromptTemplate\n",
    "from langchain_core.messages import HumanMessage, AIMessage, SystemMessage\n",
    "from langgraph.graph import  StateGraph, END, START\n",
    "from langgraph.graph.state import CompiledStateGraph\n",
    "from langgraph.checkpoint.memory import MemorySaver\n",
    "from IPython.display import  display, Image\n",
    "from langchain_core.tools import Tool"
   ]
  },
  {
   "cell_type": "code",
   "execution_count": 2,
   "metadata": {},
   "outputs": [],
   "source": [
    "load_dotenv()\n",
    "api_key = os.getenv(\"OPENAI_API_KEY\")\n",
    "model = ChatOpenAI(model=\"gpt-4o-mini\")\n",
    "langsmith_api_key = os.getenv(\"LANGCHAIN_API_KEY\")\n",
    "LANGCHAIN_TRACING_V2 = True\n",
    "LANGCHAIN_PROJECT= 'project_chatbot'\n"
   ]
  },
  {
   "cell_type": "code",
   "execution_count": 3,
   "metadata": {},
   "outputs": [],
   "source": [
    "class State(TypedDict):\n",
    "    \"\"\"\n",
    "    Represents the state for the healthcare support agent's responses.\n",
    "    \"\"\"\n",
    "    patient_query : str  \n",
    "    disease_dignose : str\n",
    "    nutritional_guidance : str  "
   ]
  },
  {
   "cell_type": "code",
   "execution_count": 4,
   "metadata": {},
   "outputs": [],
   "source": [
    "def patient_data(state: State) -> State:\n",
    "    \"\"\"Collect patient data from the user.\"\"\"\n",
    "    prompt = ChatPromptTemplate.from_template(\n",
    "        \"You are a healthcare specialist. Collect the following data from the user: \"\n",
    "        \"  symptoms or condition.\\n\"\n",
    "        \"Patient Query: {patient_query}\"\n",
    "    )\n",
    "    response = model.invoke(prompt.format_messages(patient_query=state[\"patient_query\"]))\n",
    "    return {\"patient_query\": state[\"patient_query\"], \"disease_dignose\": response.content}\n"
   ]
  },
  {
   "cell_type": "code",
   "execution_count": 5,
   "metadata": {},
   "outputs": [],
   "source": [
    "#Tool\n",
    "def diagnose_disease(patient_data: str) -> dict:\n",
    "    \"\"\"Diagnose a disease based on user-provided data.\"\"\"\n",
    "    prompt = ChatPromptTemplate.from_template(\n",
    "        \"You are a medical diagnostic assistant. Based on the following symptoms or condition, \"\n",
    "        \"identify the most likely disease or condition. Provide a brief explanation \"\n",
    "        \"and suggest next steps for the user.\\n\\npatient_data: {patient_data}\"\n",
    "    )\n",
    "    response = model.invoke(prompt.format_messages(patient_data=patient_data))\n",
    "    diagnosis_details = response.content.strip().split(\"\\n\", 1)\n",
    "    diagnosis = diagnosis_details[0] if diagnosis_details else \"Unknown\"\n",
    "    details = diagnosis_details[1] if len(diagnosis_details) > 1 else \"No additional details provided.\"\n",
    "    return {\"diagnosis\": diagnosis, \"details\": details}\n",
    "\n",
    "diagnose_tool = Tool.from_function(\n",
    "    func=diagnose_disease,\n",
    "    name=\"disease_diagnosis\", \n",
    "    description=\"Diagnose a disease based on symptoms provided by the user.\",\n",
    ")\n"
   ]
  },
  {
   "cell_type": "code",
   "execution_count": 6,
   "metadata": {},
   "outputs": [],
   "source": [
    "#Tool\n",
    "def recommend_food_general(condition: str) -> Dict[str, List[str]]:\n",
    "    \"\"\"Provide general food recommendations based on the condition.\"\"\"\n",
    "    prompt = ChatPromptTemplate.from_template(\n",
    "        \"You are a healthcare specialist. Based on the function diagnose_disease, \"\n",
    "        \"recommend 3-5 foods along with reasons why these foods are beneficial. \"\n",
    "        \"Condition: {condition}\"\n",
    "    )\n",
    "    response = model.invoke(prompt.format_messages(condition=condition))\n",
    "    content = response.content\n",
    "    foods, reasons = [], []\n",
    "    for line in content.splitlines():\n",
    "        if \": \" in line:\n",
    "            food, reason = line.split(\": \", 1)\n",
    "            foods.append(food.strip())\n",
    "            reasons.append(reason.strip())\n",
    "    return {\"foods\": foods, \"reasons\": reasons}\n",
    "food_recommendation_tool = Tool.from_function(\n",
    "    func=recommend_food_general,\n",
    "    name=\"food_recommendation\",  \n",
    "    description=\"Recommend foods based on the patient's condition or symptom.\",\n",
    ")\n"
   ]
  },
  {
   "cell_type": "code",
   "execution_count": 7,
   "metadata": {},
   "outputs": [],
   "source": [
    "tools: List[Tool] = [diagnose_tool]\n",
    "llm_with_tools = model.bind_tools(tools)"
   ]
  },
  {
   "cell_type": "code",
   "execution_count": 8,
   "metadata": {},
   "outputs": [],
   "source": [
    "def diagnose(state: State) -> State:\n",
    "    \"\"\"Diagnose a disease based on patient symptoms.\"\"\"\n",
    "    prompt = f\"patient_data: {state['disease_dignose']}\"\n",
    "    response = llm_with_tools.invoke(prompt)\n",
    "    return {\n",
    "        \"patient_query\": state[\"patient_query\"],\n",
    "        \"disease_dignose\": response.content,\n",
    "        \"nutritional_guidance\": \"\",\n",
    "    }"
   ]
  },
  {
   "cell_type": "code",
   "execution_count": 9,
   "metadata": {},
   "outputs": [],
   "source": [
    "tools: List[Tool] = [food_recommendation_tool]\n",
    "llm_with_tool = model.bind_tools(tools)"
   ]
  },
  {
   "cell_type": "code",
   "execution_count": 10,
   "metadata": {},
   "outputs": [],
   "source": [
    "def nutrition_guide(state: State) -> State:\n",
    "    \"\"\"Recommend nutrition based on dignose_disease.\"\"\"\n",
    "    response = llm_with_tools.invoke(state[\"nutritional_guidance\"])\n",
    "    return {\n",
    "        \"patient_query\": state[\"patient_query\"],\n",
    "        \"disease_dignose\": state[\"disease_dignose\"],\n",
    "        \"nutritional_guidance\": response.content,\n",
    "    }\n"
   ]
  },
  {
   "cell_type": "code",
   "execution_count": 11,
   "metadata": {},
   "outputs": [
    {
     "data": {
      "image/png": "[encoded data removed]",
      "text/plain": [
       "<IPython.core.display.Image object>"
      ]
     },
     "metadata": {},
     "output_type": "display_data"
    }
   ],
   "source": [
    "memory : MemorySaver = MemorySaver()\n",
    "\n",
    "builder : StateGraph = StateGraph(State)\n",
    "\n",
    "builder.add_node(\"patient_data\", patient_data)\n",
    "builder.add_node(\"diagnose_disease\", diagnose)\n",
    "builder.add_node(\"nutrition_guidance\", nutrition_guide)\n",
    "\n",
    "builder.add_edge(START,  \"patient_data\")\n",
    "builder.add_edge(\"patient_data\", \"diagnose_disease\")\n",
    "builder.add_edge(\"diagnose_disease\", \"nutrition_guidance\")\n",
    "builder.add_edge(\"nutrition_guidance\", END)\n",
    "\n",
    "graph : CompiledStateGraph = builder.compile(checkpointer=memory, interrupt_before=[\"diagnose_disease\"])\n",
    "\n",
    "display(Image(graph.get_graph().draw_mermaid_png()))"
   ]
  },
  {
   "cell_type": "code",
   "execution_count": 12,
   "metadata": {},
   "outputs": [
    {
     "name": "stdout",
     "output_type": "stream",
     "text": [
      "{   'patient_query': 'my cholesterol is high last few months, i feel pain in '\n",
      "                     'my joints.no symptoms of any disease, please provide me '\n",
      "                     'a full nutrirition guidance for less to my chlosterol '\n",
      "                     'level, i hane no medical history, no family medicl '\n",
      "                     'history, my age is 30 and my height is 6 ft'}\n",
      "{   'disease_dignose': 'Thank you for sharing your concerns. Based on the '\n",
      "                       'information you provided, you are experiencing high '\n",
      "                       'cholesterol levels and joint pain, but you have no '\n",
      "                       'significant medical or family history. Here’s a '\n",
      "                       'comprehensive nutrition guide to help manage your '\n",
      "                       'cholesterol levels. However, please remember that it’s '\n",
      "                       'essential to consult with a healthcare professional '\n",
      "                       'for personalized advice and to rule out any underlying '\n",
      "                       'conditions related to your joint pain.\\n'\n",
      "                       '\\n'\n",
      "                       '### Nutrition Guidance for Lowering Cholesterol\\n'\n",
      "                       '\\n'\n",
      "                       '#### 1. **Heart-Healthy Fats**\\n'\n",
      "                       '   - **Choose Unsaturated Fats**: Use olive oil, '\n",
      "                       'avocado, and nut oils instead of saturated fats like '\n",
      "                       'butter or lard.\\n'\n",
      "                       '   - **Omega-3 Fatty Acids**: Include fatty fish like '\n",
      "                       'salmon, mackerel, and sardines at least twice a week. '\n",
      "                       'Consider walnuts and flaxseeds for plant-based '\n",
      "                       'sources.\\n'\n",
      "                       '\\n'\n",
      "                       '#### 2. **Increase Fiber Intake**\\n'\n",
      "                       '   - **Soluble Fiber**: Foods high in soluble fiber '\n",
      "                       'can help lower cholesterol. Include oats, barley, '\n",
      "                       'beans, lentils, fruits (especially apples, oranges, '\n",
      "                       'and berries), and vegetables.\\n'\n",
      "                       '   - **Whole Grains**: Choose whole grain products '\n",
      "                       'such as brown rice, whole grain bread, and quinoa.\\n'\n",
      "                       '\\n'\n",
      "                       '#### 3. **Fruits and Vegetables**\\n'\n",
      "                       '   - Aim for at least 5 servings of fruits and '\n",
      "                       'vegetables daily. They are rich in antioxidants and '\n",
      "                       'fiber, which help lower cholesterol.\\n'\n",
      "                       '   - Focus on a variety of colors to maximize nutrient '\n",
      "                       'intake.\\n'\n",
      "                       '\\n'\n",
      "                       '#### 4. **Limit Saturated and Trans Fats**\\n'\n",
      "                       '   - **Saturated Fats**: Limit red meat, full-fat '\n",
      "                       'dairy products, and processed foods. Aim for lean '\n",
      "                       'protein sources such as chicken, turkey, and '\n",
      "                       'plant-based proteins.\\n'\n",
      "                       '   - **Trans Fats**: Avoid hydrogenated oils found in '\n",
      "                       'many processed snacks, margarine, and baked goods.\\n'\n",
      "                       '\\n'\n",
      "                       '#### 5. **Healthy Snacks**\\n'\n",
      "                       '   - Choose nuts (unsalted), seeds, fruits, and '\n",
      "                       'vegetables as snacks instead of chips or candy.\\n'\n",
      "                       '   - Consider hummus with veggies or whole-grain '\n",
      "                       'crackers with avocado.\\n'\n",
      "                       '\\n'\n",
      "                       '#### 6. **Limit Sugar and Processed Foods**\\n'\n",
      "                       '   - Reduce your intake of sugary beverages, sweets, '\n",
      "                       'and processed foods that can contribute to weight gain '\n",
      "                       'and increased cholesterol levels.\\n'\n",
      "                       '\\n'\n",
      "                       '#### 7. **Moderate Alcohol Consumption**\\n'\n",
      "                       '   - If you drink alcohol, do so in moderation. This '\n",
      "                       'generally means up to one drink per day for women and '\n",
      "                       'up to two drinks per day for men.\\n'\n",
      "                       '\\n'\n",
      "                       '#### 8. **Stay Hydrated**\\n'\n",
      "                       '   - Drink plenty of water throughout the day. Limit '\n",
      "                       'sugary drinks and excessive caffeine.\\n'\n",
      "                       '\\n'\n",
      "                       '#### 9. **Regular Physical Activity**\\n'\n",
      "                       '   - Aim for at least 150 minutes of '\n",
      "                       'moderate-intensity exercise each week (like brisk '\n",
      "                       'walking, cycling, or swimming). Regular exercise can '\n",
      "                       'help improve cholesterol levels and joint health.\\n'\n",
      "                       '\\n'\n",
      "                       '#### 10. **Weight Management**\\n'\n",
      "                       '   - If you are overweight, losing even a small amount '\n",
      "                       'of weight can help lower cholesterol levels. Focus on '\n",
      "                       'a balanced diet and regular physical activity.\\n'\n",
      "                       '\\n'\n",
      "                       '### Sample Meal Plan\\n'\n",
      "                       '**Breakfast**: Oatmeal topped with fresh berries and a '\n",
      "                       'small handful of walnuts.\\n'\n",
      "                       '\\n'\n",
      "                       '**Snack**: A medium apple or carrot sticks with '\n",
      "                       'hummus.\\n'\n",
      "                       '\\n'\n",
      "                       '**Lunch**: A salad with mixed greens, cherry tomatoes, '\n",
      "                       'cucumber, chickpeas, and a vinaigrette made from olive '\n",
      "                       'oil and lemon juice.\\n'\n",
      "                       '\\n'\n",
      "                       '**Snack**: A small handful of almonds or a piece of '\n",
      "                       'fruit.\\n'\n",
      "                       '\\n'\n",
      "                       '**Dinner**: Grilled salmon, quinoa, and steamed '\n",
      "                       'broccoli with a drizzle of olive oil.\\n'\n",
      "                       '\\n'\n",
      "                       '**Dessert (if desired)**: A small bowl of mixed '\n",
      "                       'fruit.\\n'\n",
      "                       '\\n'\n",
      "                       '### Important Notes\\n'\n",
      "                       '- Monitor portion sizes and maintain a balanced diet.\\n'\n",
      "                       '- Consider tracking your food intake to help stay on '\n",
      "                       'course.\\n'\n",
      "                       '- Given your joint pain, you may want to discuss with '\n",
      "                       'a healthcare professional about the appropriate types '\n",
      "                       'of exercises that are safe for you.\\n'\n",
      "                       '\\n'\n",
      "                       '### Conclusion\\n'\n",
      "                       'This nutritional guidance is a starting point for '\n",
      "                       \"managing your cholesterol levels. It's advisable to \"\n",
      "                       'follow up with a healthcare provider or a registered '\n",
      "                       'dietitian for personalized dietary advice, especially '\n",
      "                       'to address your joint pain and any other health '\n",
      "                       'concerns.',\n",
      "    'patient_query': 'my cholesterol is high last few months, i feel pain in '\n",
      "                     'my joints.no symptoms of any disease, please provide me '\n",
      "                     'a full nutrirition guidance for less to my chlosterol '\n",
      "                     'level, i hane no medical history, no family medicl '\n",
      "                     'history, my age is 30 and my height is 6 ft'}\n"
     ]
    }
   ],
   "source": [
    "import pprint\n",
    "config = {\"configurable\": {\"thread_id\": \"1\"}}\n",
    "state_input = {\n",
    "    \"patient_query\": \"my cholesterol is high last few months, i feel pain in my joints.no symptoms of any disease, please provide me a full nutrirition guidance for less to my chlosterol level, i hane no medical history, no family medicl history, my age is 30 and my height is 6 ft\",\n",
    "    \"diagnose_disease\": \"\",\n",
    "    \"nutrition_guide\" : \"\",\n",
    "}\n",
    "for event in graph.stream(state_input, config, stream_mode=\"values\") :\n",
    "\n",
    "  pp = pprint.PrettyPrinter(indent=4)\n",
    "  pp.pprint(event)"
   ]
  },
  {
   "cell_type": "code",
   "execution_count": 13,
   "metadata": {},
   "outputs": [
    {
     "data": {
      "text/plain": [
       "('diagnose_disease',)"
      ]
     },
     "execution_count": 13,
     "metadata": {},
     "output_type": "execute_result"
    }
   ],
   "source": [
    "state = graph.get_state(config)\n",
    "state.next"
   ]
  }
 ],
 "metadata": {
  "kernelspec": {
   "display_name": "myenv_3.12",
   "language": "python",
   "name": "python3"
  },
  "language_info": {
   "codemirror_mode": {
    "name": "ipython",
    "version": 3
   },
   "file_extension": ".py",
   "mimetype": "text/x-python",
   "name": "python",
   "nbconvert_exporter": "python",
   "pygments_lexer": "ipython3",
   "version": "3.12.2"
  }
 },
 "nbformat": 4,
 "nbformat_minor": 2
}
